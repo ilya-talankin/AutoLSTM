{
 "cells": [
  {
   "cell_type": "code",
   "execution_count": 11,
   "id": "d0babe11-4528-4b04-8564-511dbd6b7ce9",
   "metadata": {},
   "outputs": [],
   "source": [
    "def prepareData(csv, historySize):\n",
    "    x = []\n",
    "    y = []\n",
    "    power = csv.pop('power_normed')\n",
    "    features = csv\n",
    "    for i in range(historySize, len(features) - historySize):\n",
    "        x.append(features[i - historySize : i])\n",
    "        y.append(sum(power[i : i + 8]))\n",
    "    return np.array(x), np.array(y)"
   ]
  },
  {
   "cell_type": "code",
   "execution_count": 9,
   "id": "ed9bfd89-24e2-425e-913c-8869ce9c43d0",
   "metadata": {},
   "outputs": [
    {
     "ename": "SyntaxError",
     "evalue": "incomplete input (429684488.py, line 2)",
     "output_type": "error",
     "traceback": [
      "\u001b[0;36m  Cell \u001b[0;32mIn[9], line 2\u001b[0;36m\u001b[0m\n\u001b[0;31m    data = data.drop('Unnamed: 51', axis=1\u001b[0m\n\u001b[0m                                          ^\u001b[0m\n\u001b[0;31mSyntaxError\u001b[0m\u001b[0;31m:\u001b[0m incomplete input\n"
     ]
    }
   ],
   "source": [
    "data = pd.read_csv('./GermanSolarFarm/data/pv_01.csv')\n",
    "data = data.drop('Unnamed: 51', axis=1)"
   ]
  },
  {
   "cell_type": "code",
   "execution_count": 8,
   "id": "edd5e4e9-1ac3-45e5-b5f7-c523e9946897",
   "metadata": {},
   "outputs": [
    {
     "ename": "NameError",
     "evalue": "name 'data' is not defined",
     "output_type": "error",
     "traceback": [
      "\u001b[0;31m---------------------------------------------------------------------------\u001b[0m",
      "\u001b[0;31mNameError\u001b[0m                                 Traceback (most recent call last)",
      "Cell \u001b[0;32mIn[8], line 1\u001b[0m\n\u001b[0;32m----> 1\u001b[0m \u001b[38;5;28mprint\u001b[39m(\u001b[43mdata\u001b[49m)\n",
      "\u001b[0;31mNameError\u001b[0m: name 'data' is not defined"
     ]
    }
   ],
   "source": [
    "print(data)"
   ]
  }
 ],
 "metadata": {
  "kernelspec": {
   "display_name": "Python 3 (ipykernel)",
   "language": "python",
   "name": "python3"
  },
  "language_info": {
   "codemirror_mode": {
    "name": "ipython",
    "version": 3
   },
   "file_extension": ".py",
   "mimetype": "text/x-python",
   "name": "python",
   "nbconvert_exporter": "python",
   "pygments_lexer": "ipython3",
   "version": "3.11.4"
  }
 },
 "nbformat": 4,
 "nbformat_minor": 5
}
